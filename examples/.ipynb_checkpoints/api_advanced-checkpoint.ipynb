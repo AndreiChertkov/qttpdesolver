{
 "cells": [
  {
   "cell_type": "markdown",
   "metadata": {},
   "source": [
    "# Advanced API for qttpdesolver package.\n",
    "\n",
    "We consider various examples of qttpdesolver usage (see api_basic_1d.ipynb, api_basic_2d.ipynb and api_basic_3d.ipynb before)."
   ]
  },
  {
   "cell_type": "code",
   "execution_count": 1,
   "metadata": {
    "collapsed": false
   },
   "outputs": [],
   "source": [
    "%matplotlib inline\n",
    "import numpy as np\n",
    "\n",
    "from qttpdesolver import Pde, auto_solve, MODE_NP, MODE_TT, MODE_SP, SOLVER_FS, SOLVER_FD"
   ]
  },
  {
   "cell_type": "markdown",
   "metadata": {},
   "source": [
    "### 1D Solvers and modes comparison:\n",
    "\n",
    "we solve 1D stationary diffusion PDE with known analytical solution with different combinations of solvers and modes."
   ]
  },
  {
   "cell_type": "code",
   "execution_count": 3,
   "metadata": {
    "collapsed": false
   },
   "outputs": [
    {
     "name": "stdout",
     "output_type": "stream",
     "text": [
      "------ <  MODE: tt  >  <  Solver: fs  >\n",
      "d= 8|fs-tt|hd|er=5.1e-05 |erdx=2.6e-05 |T=   0.074|R=   4.3\n",
      "d=10|fs-tt|hd|er=3.2e-06 |erdx=1.6e-06 |T=   0.042|R=   3.9\n",
      "d=12|fs-tt|hd|er=2.0e-07 |erdx=1.0e-07 |T=   0.060|R=   3.6\n",
      "d=14|fs-tt|hd|er=1.3e-08 |erdx=6.3e-09 |T=   0.059|R=   3.0\n",
      "d=16|fs-tt|hd|er=7.8e-10 |erdx=4.0e-10 |T=   0.069|R=   2.7\n",
      "d=18|fs-tt|hd|er=4.9e-11 |erdx=2.5e-11 |T=   0.091|R=   2.4\n",
      "d=20|fs-tt|hd|er=3.0e-12 |erdx=1.5e-12 |T=   0.096|R=   2.2\n",
      "d=22|fs-tt|hd|er=1.8e-13 |erdx=9.6e-14 |T=   0.093|R=   2.0\n",
      "------ <  MODE: tt  >  <  Solver: fd  >\n",
      "d= 8|fd-tt|hd|er=5.1e-05 |erdx=2.6e-05 |T=   0.092|R=   4.8|It=20\n",
      "d=10|fd-tt|hd|er=3.2e-06 |erdx=1.6e-06 |T=   0.137|R=   4.6|It=20\n",
      "d=12|fd-tt|hd|er=2.0e-07 |erdx=1.2e-06 |T=   0.433|R=   4.8|It=20\n",
      "d=14|fd-tt|hd|er=4.6e-08 |erdx=2.3e-05 |T=   0.405|R=   4.9|It=20\n",
      "d=16|fd-tt|hd|er=3.4e-07 |erdx=1.7e-03 |T=   0.495|R=   6.4|It=20\n",
      "d=18|fd-tt|hd|er=4.2e-06 |erdx=9.0e-02 |T=   1.003|R=  11.2|It=20\n",
      "d=20|fd-tt|hd|er=1.1e-05 |erdx=1.5e-01 |T=   1.639|R=  22.3|It=20\n",
      "------ <  MODE: sp  >  <  Solver: fd  >\n",
      "d= 8|fd-sp|hd|er=5.1e-05 |erdx=2.6e-05 |T=   0.011\n",
      "d=10|fd-sp|hd|er=3.2e-06 |erdx=1.6e-06 |T=   0.003\n",
      "d=12|fd-sp|hd|er=2.0e-07 |erdx=1.0e-07 |T=   0.006\n",
      "d=14|fd-sp|hd|er=1.3e-08 |erdx=6.3e-09 |T=   0.019\n",
      "d=16|fd-sp|hd|er=8.1e-10 |erdx=4.2e-10 |T=   0.093\n",
      "d=18|fd-sp|hd|er=8.7e-10 |erdx=6.8e-10 |T=   0.404\n",
      "d=20|fd-sp|hd|er=1.7e-08 |erdx=1.3e-08 |T=   1.882\n",
      "------ <  MODE: np  >  <  Solver: fs  >\n",
      "d= 8|fs-np|hd|er=5.1e-05 |erdx=2.6e-05 |T=   0.451\n",
      "d=10|fs-np|hd|er=3.2e-06 |erdx=1.6e-06 |T=   0.012\n",
      "d=12|fs-np|hd|er=2.0e-07 |erdx=1.0e-07 |T=   0.175\n",
      "------ <  MODE: np  >  <  Solver: fd  >\n",
      "d= 8|fd-np|hd|er=5.1e-05 |erdx=2.6e-05 |T=   0.017\n",
      "d=10|fd-np|hd|er=3.2e-06 |erdx=1.6e-06 |T=   0.676\n"
     ]
    }
   ],
   "source": [
    "PDE = Pde()\n",
    "PDE.set_model('divkgrad_1d_hd_analyt')\n",
    "PDE.set_params([np.pi*2])\n",
    "PDE.set_tau(tau=1.E-14, eps_lss=1.E-14, tau_lss=1.E-14)\n",
    "PDE.set_lss_params(nswp=20, kickrank=4, local_prec='n', local_iters=2,\n",
    "                   local_restart=20, trunc_norm=1, max_full_size=100)\n",
    "PDE.set_verb(False, False, False)\n",
    "\n",
    "d_list = {}\n",
    "d_list[SOLVER_FS] = {MODE_NP: range(8, 13, 2),\n",
    "                     MODE_TT: range(8, 23, 2)}\n",
    "d_list[SOLVER_FD] = {MODE_NP: range(8, 11, 2),\n",
    "                     MODE_TT: range(8, 21, 2),\n",
    "                     MODE_SP: range(8, 21, 2)}\n",
    "for mode in [MODE_TT, MODE_SP, MODE_NP]:\n",
    "    for solver in [SOLVER_FS, SOLVER_FD]:\n",
    "        if solver==SOLVER_FS and mode==MODE_SP:\n",
    "            continue\n",
    "        print '------ <  MODE: %s  >  <  Solver: %s  >'%(mode, solver)\n",
    "        for d in d_list[solver][mode]:\n",
    "            PDE.set_solver_name(solver) \n",
    "            PDE.set_mode(mode) \n",
    "            PDE.update_d(d)\n",
    "            PDESolver = auto_solve(PDE, return_solver=True)  "
   ]
  },
  {
   "cell_type": "markdown",
   "metadata": {},
   "source": [
    "### 2D Solvers and modes comparison:\n",
    "\n",
    "we solve 2D stationary diffusion PDE with known analytical solution with different combinations of solvers and modes."
   ]
  },
  {
   "cell_type": "code",
   "execution_count": 4,
   "metadata": {
    "collapsed": false
   },
   "outputs": [
    {
     "name": "stdout",
     "output_type": "stream",
     "text": [
      "------ <  MODE: tt  >  <  Solver: fs  >\n",
      "d= 3|fs-tt|hd|er=4.4e-02 |erdx=3.2e-02 |erdy=1.8e-02 |T=   0.099|R=   4.1|It= 2\n",
      "d= 4|fs-tt|hd|er=1.1e-02 |erdx=7.9e-03 |erdy=4.5e-03 |T=   0.156|R=   5.6|It= 3\n",
      "d= 5|fs-tt|hd|er=2.7e-03 |erdx=2.0e-03 |erdy=1.1e-03 |T=   0.309|R=   6.7|It= 3\n",
      "d= 6|fs-tt|hd|er=6.8e-04 |erdx=4.9e-04 |erdy=2.8e-04 |T=   0.527|R=   6.9|It= 3\n",
      "d= 7|fs-tt|hd|er=1.7e-04 |erdx=1.2e-04 |erdy=7.0e-05 |T=   0.992|R=   7.1|It= 4\n",
      "d= 8|fs-tt|hd|er=4.2e-05 |erdx=3.1e-05 |erdy=1.8e-05 |T=   1.519|R=   7.4|It= 3\n",
      "d= 9|fs-tt|hd|er=1.1e-05 |erdx=7.7e-06 |erdy=4.4e-06 |T=   1.595|R=   7.2|It= 3\n",
      "d=10|fs-tt|hd|er=2.6e-06 |erdx=1.9e-06 |erdy=1.1e-06 |T=   2.171|R=   7.2|It= 3\n",
      "d=11|fs-tt|hd|er=6.6e-07 |erdx=4.8e-07 |erdy=2.8e-07 |T=   2.569|R=   6.7|It= 3\n",
      "d=12|fs-tt|hd|er=1.7e-07 |erdx=1.2e-07 |erdy=6.9e-08 |T=   2.366|R=   7.4|It= 3\n",
      "d=13|fs-tt|hd|er=4.1e-08 |erdx=3.0e-08 |erdy=1.7e-08 |T=   2.464|R=   7.3|It= 3\n",
      "d=14|fs-tt|hd|er=1.0e-08 |erdx=8.5e-09 |erdy=5.3e-09 |T=   3.130|R=   7.4|It= 3\n",
      "------ <  MODE: tt  >  <  Solver: fd  >\n",
      "d= 3|fd-tt|hd|er=4.4e-02 |erdx=3.2e-02 |erdy=1.8e-02 |T=   0.069|R=   4.1|It= 3\n",
      "d= 4|fd-tt|hd|er=1.1e-02 |erdx=7.9e-03 |erdy=4.5e-03 |T=   0.064|R=   5.6|It= 4\n",
      "d= 5|fd-tt|hd|er=2.7e-03 |erdx=2.0e-03 |erdy=1.1e-03 |T=   0.105|R=   6.7|It= 4\n",
      "d= 6|fd-tt|hd|er=6.8e-04 |erdx=4.9e-04 |erdy=2.8e-04 |T=   0.177|R=   6.8|It= 6\n",
      "d= 7|fd-tt|hd|er=1.7e-04 |erdx=1.2e-04 |erdy=7.0e-05 |T=   0.273|R=   6.9|It=12\n",
      "d= 8|fd-tt|hd|er=4.2e-05 |erdx=3.1e-05 |erdy=1.8e-05 |T=   0.700|R=   6.5|It=20\n",
      "d= 9|fd-tt|hd|er=1.1e-05 |erdx=7.7e-06 |erdy=4.4e-06 |T=   0.819|R=   6.2|It=20\n",
      "d=10|fd-tt|hd|er=2.6e-06 |erdx=2.0e-06 |erdy=1.1e-06 |T=   0.992|R=   8.8|It=20\n",
      "d=11|fd-tt|hd|er=1.2e-05 |erdx=2.6e-05 |erdy=1.4e-05 |T=   1.149|R=  14.7|It=20\n",
      "d=12|fd-tt|hd|er=4.8e-04 |erdx=1.7e-03 |erdy=4.8e-04 |T=   1.335|R=  16.6|It=20\n",
      "------ <  MODE: sp  >  <  Solver: fd  >\n",
      "d= 3|fd-sp|hd|er=4.4e-02 |erdx=3.2e-02 |erdy=1.8e-02 |T=   0.014\n",
      "d= 4|fd-sp|hd|er=1.1e-02 |erdx=7.9e-03 |erdy=4.5e-03 |T=   0.007\n",
      "d= 5|fd-sp|hd|er=2.7e-03 |erdx=2.0e-03 |erdy=1.1e-03 |T=   0.010\n",
      "d= 6|fd-sp|hd|er=6.8e-04 |erdx=4.9e-04 |erdy=2.8e-04 |T=   0.025\n",
      "d= 7|fd-sp|hd|er=1.7e-04 |erdx=1.2e-04 |erdy=7.0e-05 |T=   0.096\n",
      "d= 8|fd-sp|hd|er=4.2e-05 |erdx=3.1e-05 |erdy=1.8e-05 |T=   0.631\n",
      "d= 9|fd-sp|hd|er=1.1e-05 |erdx=7.7e-06 |erdy=4.4e-06 |T=   5.292\n",
      "------ <  MODE: np  >  <  Solver: fs  >\n",
      "d= 3|fs-np|hd|er=4.4e-02 |erdx=3.2e-02 |erdy=1.8e-02 |T=   0.002\n",
      "d= 4|fs-np|hd|er=1.1e-02 |erdx=7.9e-03 |erdy=4.5e-03 |T=   0.018\n",
      "d= 5|fs-np|hd|er=2.7e-03 |erdx=2.0e-03 |erdy=1.1e-03 |T=   0.834\n",
      "------ <  MODE: np  >  <  Solver: fd  >\n",
      "d= 3|fd-np|hd|er=4.4e-02 |erdx=3.2e-02 |erdy=1.8e-02 |T=   0.004\n",
      "d= 4|fd-np|hd|er=1.1e-02 |erdx=7.9e-03 |erdy=4.5e-03 |T=   0.016\n",
      "d= 5|fd-np|hd|er=2.7e-03 |erdx=2.0e-03 |erdy=1.1e-03 |T=   0.837\n"
     ]
    }
   ],
   "source": [
    "PDE = Pde()\n",
    "PDE.set_model('divkgrad_2d_hd_analyt')\n",
    "PDE.set_params([np.pi, np.pi*2])\n",
    "PDE.set_tau(tau=1.E-10, eps_lss=1.E-10, tau_lss=1.E-10)\n",
    "PDE.set_lss_params(nswp=20, kickrank=4, local_prec='n', local_iters=2,\n",
    "                   local_restart=20, trunc_norm=1, max_full_size=100)\n",
    "PDE.set_verb(False, False, False)\n",
    "\n",
    "d_list = {}\n",
    "d_list[SOLVER_FS] = {MODE_NP: range(3,  6, 1),\n",
    "                     MODE_TT: range(3, 15, 1)}\n",
    "d_list[SOLVER_FD] = {MODE_NP: range(3,  6, 1),\n",
    "                     MODE_TT: range(3, 13, 1),\n",
    "                     MODE_SP: range(3, 10, 1)}\n",
    "for mode in [MODE_TT, MODE_SP, MODE_NP]:\n",
    "    for solver in [SOLVER_FS, SOLVER_FD]:\n",
    "        if solver==SOLVER_FS and mode==MODE_SP:\n",
    "            continue\n",
    "        print '------ <  MODE: %s  >  <  Solver: %s  >'%(mode, solver)\n",
    "        for d in d_list[solver][mode]:\n",
    "            PDE.set_solver_name(solver) \n",
    "            PDE.set_mode(mode) \n",
    "            PDE.update_d(d)\n",
    "            PDESolver = auto_solve(PDE, return_solver=True)     "
   ]
  },
  {
   "cell_type": "markdown",
   "metadata": {},
   "source": [
    "### 3D Solvers and modes comparison:\n",
    "\n",
    "we solve 3D stationary diffusion PDE with known analytical solution with different combinations of solvers and modes."
   ]
  },
  {
   "cell_type": "code",
   "execution_count": 5,
   "metadata": {
    "collapsed": false
   },
   "outputs": [
    {
     "name": "stdout",
     "output_type": "stream",
     "text": [
      "------ <  MODE: tt  >  <  Solver: fs  >\n",
      "d= 3|fs-tt|hd|er=1.1e-01 |erdx=8.6e-02 |erdy=5.3e-02 |erdz=4.7e-02 |T=   0.320|R=   6.6|It= 4\n",
      "d= 4|fs-tt|hd|er=2.6e-02 |erdx=2.1e-02 |erdy=1.4e-02 |erdz=1.2e-02 |T=   0.858|R=   9.1|It= 5\n",
      "d= 5|fs-tt|hd|er=6.5e-03 |erdx=5.2e-03 |erdy=3.5e-03 |erdz=3.1e-03 |T=   2.156|R=  12.1|It= 5\n",
      "d= 6|fs-tt|hd|er=1.6e-03 |erdx=1.3e-03 |erdy=8.8e-04 |erdz=7.8e-04 |T=   4.121|R=  14.4|It= 5\n",
      "------ <  MODE: tt  >  <  Solver: fd  >\n",
      "d= 3|fd-tt|hd|er=1.1e-01 |erdx=8.6e-02 |erdy=5.3e-02 |erdz=4.7e-02 |T=   0.181|R=   6.6|It= 3\n",
      "d= 4|fd-tt|hd|er=2.6e-02 |erdx=2.1e-02 |erdy=1.4e-02 |erdz=1.2e-02 |T=   0.263|R=   7.8|It= 4\n",
      "d= 5|fd-tt|hd|er=6.5e-03 |erdx=5.2e-03 |erdy=3.5e-03 |erdz=3.1e-03 |T=   0.574|R=   7.6|It= 4\n",
      "d= 6|fd-tt|hd|er=1.6e-03 |erdx=1.3e-03 |erdy=8.8e-04 |erdz=7.8e-04 |T=   0.451|R=   7.0|It= 4\n",
      "d= 7|fd-tt|hd|er=4.1e-04 |erdx=3.3e-04 |erdy=2.2e-04 |erdz=2.0e-04 |T=   0.550|R=   6.3|It= 5\n",
      "------ <  MODE: sp  >  <  Solver: fd  >\n",
      "d= 3|fd-sp|hd|er=1.1e-01 |erdx=8.6e-02 |erdy=5.3e-02 |erdz=4.7e-02 |T=   0.015\n",
      "------ <  MODE: np  >  <  Solver: fs  >\n",
      "d= 3|fs-np|hd|er=1.1e-01 |erdx=8.6e-02 |erdy=5.3e-02 |erdz=4.7e-02 |T=   0.628\n",
      "------ <  MODE: np  >  <  Solver: fd  >\n",
      "d= 3|fd-np|hd|er=1.1e-01 |erdx=8.6e-02 |erdy=5.3e-02 |erdz=4.7e-02 |T=   0.212\n"
     ]
    }
   ],
   "source": [
    "PDE = Pde()\n",
    "PDE.set_model('divkgrad_3d_hd_analyt')\n",
    "PDE.set_params([np.pi, np.pi*2, np.pi*3])\n",
    "PDE.set_tau(tau=1.E-6, eps_lss=1.E-6, tau_lss=1.E-6)\n",
    "PDE.set_lss_params(nswp=20, kickrank=4, local_prec='n', local_iters=2,\n",
    "                   local_restart=20, trunc_norm=1, max_full_size=100)\n",
    "PDE.set_verb(False, False, False)\n",
    "\n",
    "d_list = {}\n",
    "d_list[SOLVER_FS] = {MODE_NP: range(3,  4, 1),\n",
    "                     MODE_TT: range(3,  7, 1)}\n",
    "d_list[SOLVER_FD] = {MODE_NP: range(3,  4, 1),\n",
    "                     MODE_TT: range(3,  8, 1),\n",
    "                     MODE_SP: range(3,  4, 1)}\n",
    "for mode in [MODE_TT, MODE_SP, MODE_NP]:\n",
    "    for solver in [SOLVER_FS, SOLVER_FD]:\n",
    "        if solver==SOLVER_FS and mode==MODE_SP:\n",
    "            continue\n",
    "        print '------ <  MODE: %s  >  <  Solver: %s  >'%(mode, solver)\n",
    "        for d in d_list[solver][mode]:\n",
    "            PDE.set_solver_name(solver) \n",
    "            PDE.set_mode(mode) \n",
    "            PDE.update_d(d)\n",
    "            PDESolver = auto_solve(PDE, return_solver=True)"
   ]
  },
  {
   "cell_type": "code",
   "execution_count": null,
   "metadata": {
    "collapsed": true
   },
   "outputs": [],
   "source": []
  }
 ],
 "metadata": {
  "anaconda-cloud": {},
  "kernelspec": {
   "display_name": "Python [default]",
   "language": "python",
   "name": "python2"
  },
  "language_info": {
   "codemirror_mode": {
    "name": "ipython",
    "version": 2
   },
   "file_extension": ".py",
   "mimetype": "text/x-python",
   "name": "python",
   "nbconvert_exporter": "python",
   "pygments_lexer": "ipython2",
   "version": "2.7.12"
  }
 },
 "nbformat": 4,
 "nbformat_minor": 0
}
