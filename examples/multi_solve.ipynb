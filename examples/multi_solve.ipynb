{
 "cells": [
  {
   "cell_type": "markdown",
   "metadata": {},
   "source": [
    "<h1 style=\"text-align: center; color: green;\">Example for computations in multi-solve / multi-res mode</h1>\n",
    "\n",
    "<ul>\n",
    "    <li>\n",
    "        <b>MultiSolve</b> class can be used for multiple computations for different solvers, modes and grid factor ($d$) values.\n",
    "    </li>\n",
    "    <li>\n",
    "        <b>MultiRes</b> class can be used for representation of calculation results, that are obtained by <b>MultiSolve</b> solver.\n",
    "    </li>\n",
    "</ul>\n",
    "\n",
    "<i>See api basic examples for more details.</i>"
   ]
  },
  {
   "cell_type": "code",
   "execution_count": 1,
   "metadata": {
    "collapsed": false
   },
   "outputs": [],
   "source": [
    "import numpy as np\n",
    "\n",
    "from qttpdesolver import MODE_NP, MODE_TT, MODE_SP, SOLVER_FS, SOLVER_FD, BC_HD, BC_PR\n",
    "from qttpdesolver import Pde, MultiSolve"
   ]
  },
  {
   "cell_type": "code",
   "execution_count": 2,
   "metadata": {
    "collapsed": false
   },
   "outputs": [],
   "source": [
    "# We create model PDE and set main calculation parameters.\n",
    "\n",
    "PDE = Pde()\n",
    "PDE.set_print(to_std=True, to_file=False)\n",
    "PDE.set_model('Simple. Analyt 2D diffusion PDE')\n",
    "PDE.set_params([np.pi, 2.*np.pi])\n",
    "PDE.set_verb(verb_gen=False, verb_crs=False, verb_lss=False)\n",
    "PDE.set_tau(tau=1.E-12, eps_lss=1.E-12, tau_lss=None)\n",
    "PDE.set_lss_params(nswp=20, kickrank=4, local_prec='n', local_iters=2,\n",
    "                   local_restart=20, trunc_norm=1, max_full_size=1000)"
   ]
  },
  {
   "cell_type": "code",
   "execution_count": 3,
   "metadata": {
    "collapsed": false
   },
   "outputs": [
    {
     "name": "stdout",
     "output_type": "stream",
     "text": [
      "----------------------------------------------------------------\n",
      "          Script for auto-computations by qttpdesolver          \n",
      "\n",
      "          Used PDE model:\n",
      "PDE:        -div(k grad u) = f in [0, 1]^2; u_d = 0; u is known\n",
      "Parameters: w1 [=3.1416  ], w2 [=6.2832  ]\n",
      "BC        : hd\n",
      "k  = 1+x*y^2\n",
      "f  = ... according to exact solution u\n",
      "u  = sin(w_1 x^2) sin(w_2 y)\n",
      "ux = 2 w_1 x cos(w_1 x^2) sin(w_2 y)\n",
      "uy = w_2 sin(w_1 x^2) cos(w_2 y)\n",
      "\n",
      "          Used parameters:\n",
      "__________________General parameters\n",
      "Boundary cond.: hd\n",
      "Model num     : 1 \n",
      "Parameters    : w1 [=3.1416  ], w2 [=6.2832  ]\n",
      "__________________Verbosity parameters\n",
      "verb_gen      : False\n",
      "verb_crs      : False\n",
      "verb_lss      : False\n",
      "print_to_std  : True\n",
      "print_to_file : False\n",
      "out_file      : ./tmp/log_calc_test\n",
      "__________________TT parameters\n",
      "tau           : 1.00e-12\n",
      "eps_lss       : 1.00e-12\n",
      "tau_real      : 1.00e-14\n",
      "lss: nswp     : 20  \n",
      "lss: kickrank : 4   \n",
      "lss: use sol0 : False\n",
      "\n",
      "----------------------------------------------------------------\n",
      "-->  /  d= 3|fs-tt|hd|er=4.4e-02 |erdx=3.2e-02 |erdy=1.8e-02 |T=   0.133|R=   4.1|It= 2\n",
      "r  2 /  d= 3|fs-tt|hd|er=4.4e-02 |erdx=3.2e-02 |erdy=1.8e-02 |T=   0.096|R=   4.1|It= 2\n",
      "Average      T=0.114 \n",
      "-->  /  d= 4|fs-tt|hd|er=1.1e-02 |erdx=7.9e-03 |erdy=4.5e-03 |T=   0.172|R=   6.0|It= 3\n",
      "r  2 /  d= 4|fs-tt|hd|er=1.1e-02 |erdx=7.9e-03 |erdy=4.5e-03 |T=   0.164|R=   6.0|It= 3\n",
      "Average      T=0.168 \n",
      "-->  /  d= 5|fs-tt|hd|er=2.7e-03 |erdx=2.0e-03 |erdy=1.1e-03 |T=   0.440|R=   7.7|It= 9\n",
      "r  2 /  d= 5|fs-tt|hd|er=2.7e-03 |erdx=2.0e-03 |erdy=1.1e-03 |T=   0.310|R=   7.7|It= 4\n",
      "Average      T=0.375 \n",
      "-->  /  d= 6|fs-tt|hd|er=6.8e-04 |erdx=4.9e-04 |erdy=2.8e-04 |T=   0.756|R=   8.5|It= 3\n",
      "r  2 /  d= 6|fs-tt|hd|er=6.8e-04 |erdx=4.9e-04 |erdy=2.8e-04 |T=   0.735|R=   8.5|It= 3\n",
      "Average      T=0.745 \n",
      "-->  /  d= 3|fd-tt|hd|er=4.4e-02 |erdx=3.2e-02 |erdy=1.8e-02 |T=   0.043|R=   4.1|It= 3\n",
      "r  2 /  d= 3|fd-tt|hd|er=4.4e-02 |erdx=3.2e-02 |erdy=1.8e-02 |T=   0.042|R=   4.1|It= 3\n",
      "Average      T=0.043 \n",
      "-->  /  d= 4|fd-tt|hd|er=1.1e-02 |erdx=7.9e-03 |erdy=4.5e-03 |T=   0.106|R=   6.2|It= 4\n",
      "r  2 /  d= 4|fd-tt|hd|er=1.1e-02 |erdx=7.9e-03 |erdy=4.5e-03 |T=   0.074|R=   6.2|It= 4\n",
      "Average      T=0.090 \n",
      "-->  /  d= 5|fd-tt|hd|er=2.7e-03 |erdx=2.0e-03 |erdy=1.1e-03 |T=   0.124|R=   8.0|It= 5\n",
      "r  2 /  d= 5|fd-tt|hd|er=2.7e-03 |erdx=2.0e-03 |erdy=1.1e-03 |T=   0.110|R=   7.9|It= 4\n",
      "Average      T=0.117 \n",
      "-->  /  d= 3|fd-sp|hd|er=4.4e-02 |erdx=3.2e-02 |erdy=1.8e-02 |T=   0.006\n",
      "r  2 /  d= 3|fd-sp|hd|er=4.4e-02 |erdx=3.2e-02 |erdy=1.8e-02 |T=   0.006\n",
      "Average      T=0.006 \n",
      "-->  /  d= 4|fd-sp|hd|er=1.1e-02 |erdx=7.9e-03 |erdy=4.5e-03 |T=   0.007\n",
      "r  2 /  d= 4|fd-sp|hd|er=1.1e-02 |erdx=7.9e-03 |erdy=4.5e-03 |T=   0.010\n",
      "Average      T=0.008 \n",
      "-->  /  d= 5|fd-sp|hd|er=2.7e-03 |erdx=2.0e-03 |erdy=1.1e-03 |T=   0.017\n",
      "r  2 /  d= 5|fd-sp|hd|er=2.7e-03 |erdx=2.0e-03 |erdy=1.1e-03 |T=   0.010\n",
      "Average      T=0.013 \n",
      "-->  /  d= 3|fs-np|hd|er=4.4e-02 |erdx=3.2e-02 |erdy=1.8e-02 |T=   0.220\n",
      "r  2 /  d= 3|fs-np|hd|er=4.4e-02 |erdx=3.2e-02 |erdy=1.8e-02 |T=   0.002\n",
      "Average      T=0.111 \n",
      "-->  /  d= 4|fs-np|hd|er=1.1e-02 |erdx=7.9e-03 |erdy=4.5e-03 |T=   0.016\n",
      "r  2 /  d= 4|fs-np|hd|er=1.1e-02 |erdx=7.9e-03 |erdy=4.5e-03 |T=   0.014\n",
      "Average      T=0.015 \n",
      "-->  /  d= 3|fd-np|hd|er=4.4e-02 |erdx=3.2e-02 |erdy=1.8e-02 |T=   0.002\n",
      "r  2 /  d= 3|fd-np|hd|er=4.4e-02 |erdx=3.2e-02 |erdy=1.8e-02 |T=   0.002\n",
      "Average      T=0.002 \n",
      "-->  /  d= 4|fd-np|hd|er=1.1e-02 |erdx=7.9e-03 |erdy=4.5e-03 |T=   0.015\n",
      "r  2 /  d= 4|fd-np|hd|er=1.1e-02 |erdx=7.9e-03 |erdy=4.5e-03 |T=   0.015\n",
      "Average      T=0.015 \n",
      "\n",
      "---------------- Total time of script work: 4.71    \n"
     ]
    }
   ],
   "source": [
    "# We create MultiSolve class instance (name and folder parameters will be\n",
    "# used for selection of the path to save result; reps is a number of\n",
    "# recalculations for time averaging)\n",
    "# Then the jobs are added by specifying solver/mode/d_list.\n",
    "# After that we call prepare and run functions\n",
    "\n",
    "MS = MultiSolve(PDE, name='calc_test', folder='./tmp/', reps=2, verb=True)\n",
    "MS.add_job(SOLVER_FS, MODE_TT, range(3 ,  7))\n",
    "MS.add_job(SOLVER_FD, MODE_TT, range(3 ,  6))\n",
    "MS.add_job(SOLVER_FD, MODE_SP, range(3 ,  6))\n",
    "MS.add_job(SOLVER_FS, MODE_NP, range(3 ,  5))\n",
    "MS.add_job(SOLVER_FD, MODE_NP, range(3 ,  5))\n",
    "MS.run()"
   ]
  },
  {
   "cell_type": "code",
   "execution_count": 4,
   "metadata": {
    "collapsed": false
   },
   "outputs": [],
   "source": [
    "# Since all results are saved to disk, we can now restart the kernel\n",
    "# (it is usefull to use .py script for computations, and then load\n",
    "# results for research)\n",
    "\n",
    "import numpy as np\n",
    "\n",
    "from qttpdesolver import MODE_NP, MODE_TT, MODE_SP, SOLVER_FS, SOLVER_FD\n",
    "from qttpdesolver import MultiSolve, MultiRes"
   ]
  },
  {
   "cell_type": "code",
   "execution_count": 5,
   "metadata": {
    "collapsed": true
   },
   "outputs": [],
   "source": [
    "# We create new MultiSolve class instance and load calculation results\n",
    "\n",
    "MS = MultiSolve(name='calc_test', folder='./tmp/')\n",
    "MS.load()"
   ]
  },
  {
   "cell_type": "code",
   "execution_count": 6,
   "metadata": {
    "collapsed": false
   },
   "outputs": [
    {
     "name": "stdout",
     "output_type": "stream",
     "text": [
      "PDE:        -div(k grad u) = f in [0, 1]^2; u_d = 0; u is known\n",
      "Parameters: w1 [=3.1416  ], w2 [=6.2832  ]\n",
      "BC        : hd\n",
      "k  = 1+x*y^2\n",
      "f  = ... according to exact solution u\n",
      "u  = sin(w_1 x^2) sin(w_2 y)\n",
      "ux = 2 w_1 x cos(w_1 x^2) sin(w_2 y)\n",
      "uy = w_2 sin(w_1 x^2) cos(w_2 y)\n",
      "\n",
      "__________________General parameters\n",
      "Solver        : fs\n",
      "Boundary cond.: hd\n",
      "Model num     : 1 \n",
      "Parameters    : w1 [=3.1416  ], w2 [=6.2832  ]\n",
      "__________________Verbosity parameters\n",
      "verb_gen      : False\n",
      "verb_crs      : False\n",
      "verb_lss      : False\n",
      "print_to_std  : True\n",
      "print_to_file : False\n",
      "out_file      : ./tmp/log_calc_test\n",
      "__________________TT parameters\n",
      "tau           : 1.00e-12\n",
      "eps_lss       : 1.00e-12\n",
      "tau_real      : 1.00e-14\n",
      "lss: nswp     : 20  \n",
      "lss: kickrank : 4   \n",
      "lss: use sol0 : False\n",
      "\n"
     ]
    }
   ],
   "source": [
    "# Then we provide MultiRes class instance with the calculation results\n",
    "# and present model, computation parameters and all the loaded results in a one string mode.\n",
    "\n",
    "MR = MultiRes(MS)\n",
    "MR.present_model()\n",
    "MR.present_info()\n",
    "MR.present_res_1s([[SOLVER_FS, MODE_TT], [SOLVER_FS, MODE_NP]])"
   ]
  },
  {
   "cell_type": "code",
   "execution_count": 7,
   "metadata": {
    "collapsed": false
   },
   "outputs": [
    {
     "data": {
      "text/latex": [
       "\\begin{array}{ | l | l | l | l | l | l | l | l | l | l | l | l | l | l |}\n",
       "\t\t\t\\hline\n",
       "\t\t\t\\bf d & \\bf {K_x^{-1}} & \\bf {K_y^{-1}} & \\bf {q_x} & \\bf {q_y} & \\bf {W_x} & \\bf {W_y} & \\bf {H_x} & \\bf {H_y} & \\bf {A} & \\bf {f} & \\bf {u} & \\bf {u_x} & \\bf {u_y} \n",
       "\t\t\\\\ \\hline\\bf  3 &      4.3 &      4.3 &      2.0 &      2.0 &      1.4 &      1.4 &      7.1 &      7.1 &     11.8 &      3.1 &      4.1 &      4.1 &      4.1 \n",
       "\t\t\t\\\\ \\bf  4 &      6.0 &      6.0 &      2.7 &      2.7 &      1.8 &      1.8 &     12.3 &     12.4 &     20.7 &      4.0 &      6.0 &      6.2 &      6.2 \n",
       "\t\t\t\\\\ \\bf  5 &      7.2 &      7.2 &      3.1 &      3.1 &      2.1 &      2.1 &     16.6 &     20.8 &     30.1 &      4.8 &      7.7 &      8.8 &      8.2 \n",
       "\t\t\t\\\\ \\bf  6 &      8.0 &      8.0 &      3.9 &      3.6 &      2.6 &      2.5 &     18.4 &     29.0 &     37.3 &      5.6 &      8.5 &     10.8 &     10.3 \n",
       "\t\t\t\\\\ \\hline\n",
       "\t\t\\end{array}"
      ],
      "text/plain": [
       "<IPython.core.display.Latex object>"
      ]
     },
     "metadata": {},
     "output_type": "display_data"
    }
   ],
   "source": [
    "# We present table with effective TT-ranks for main matrices and vectors of SOLVER_FS, MODE_TT\n",
    "\n",
    "lbl = 'tbl:analyt2d_eranks'\n",
    "cpt = 'Effective TT-ranks of the main vectors and matrices from FS-QTT-solver, '+\\\n",
    "      'applied to the model PDE with known analytic solution for different grid factors $d$.'\n",
    "MR.tbl_eranks(SOLVER_FS, MODE_TT, ds=None, tfile=None, lbl=lbl, cpt=cpt)"
   ]
  },
  {
   "cell_type": "code",
   "execution_count": null,
   "metadata": {
    "collapsed": true
   },
   "outputs": [],
   "source": []
  },
  {
   "cell_type": "code",
   "execution_count": null,
   "metadata": {
    "collapsed": true
   },
   "outputs": [],
   "source": []
  },
  {
   "cell_type": "code",
   "execution_count": null,
   "metadata": {
    "collapsed": true
   },
   "outputs": [],
   "source": []
  },
  {
   "cell_type": "code",
   "execution_count": null,
   "metadata": {
    "collapsed": true
   },
   "outputs": [],
   "source": []
  }
 ],
 "metadata": {
  "anaconda-cloud": {},
  "kernelspec": {
   "display_name": "Python [conda root]",
   "language": "python",
   "name": "conda-root-py"
  },
  "language_info": {
   "codemirror_mode": {
    "name": "ipython",
    "version": 2
   },
   "file_extension": ".py",
   "mimetype": "text/x-python",
   "name": "python",
   "nbconvert_exporter": "python",
   "pygments_lexer": "ipython2",
   "version": "2.7.12"
  }
 },
 "nbformat": 4,
 "nbformat_minor": 1
}
