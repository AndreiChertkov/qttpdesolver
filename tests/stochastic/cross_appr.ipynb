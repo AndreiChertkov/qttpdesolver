{
 "cells": [
  {
   "cell_type": "markdown",
   "metadata": {},
   "source": [
    "# Tests of cross_appr module:\n",
    "    calculate function's values tensor on the multidimensional Chebushev mesh\n",
    "    in TT format by cross approximation method.\n",
    "    \n",
    "    After tensor's construction the function is interpolated by\n",
    "    Chebyshev polynomials."
   ]
  },
  {
   "cell_type": "markdown",
   "metadata": {},
   "source": [
    "# Function for approximation and interpolation:\n",
    "\n",
    "$$ f(x) = 1 + e^{-0.5} x^2_1sin(c_1) + e^{-1} x^3_2 sin(2c_2) + \\sum_{k=3}^{n} e^{-0.5k} x_k sin(k c_k); \\;\\; c=const, \\; n>2 $$"
   ]
  },
  {
   "cell_type": "code",
   "execution_count": 1,
   "metadata": {
    "collapsed": false
   },
   "outputs": [
    {
     "name": "stdout",
     "output_type": "stream",
     "text": [
      "----------------------------------- OK ----- All modules are imported\n"
     ]
    }
   ],
   "source": [
    "%matplotlib inline\n",
    "\n",
    "import numpy as np\n",
    "import matplotlib.pyplot as plt\n",
    "import matplotlib.gridspec as gridspec\n",
    "import time\n",
    "import sys\n",
    "\n",
    "import tt\n",
    "\n",
    "sys.path.append('./../../../parametric_pdes/sde')\n",
    "from cross_appr.sparse_array import SparseArray\n",
    "from cross_appr import cross_appr as cr_appr\n",
    "from chebushev import chebushev_tt as ch_tt\n",
    "print \"----------------------------------- OK ----- All modules are imported\"\n",
    "\n",
    "from qttpdesolver import Func, Vector\n",
    "\n",
    "def func(r, c):\n",
    "    k = np.arange(len(r), dtype=float)+1.\n",
    "    l = np.exp(-0.5*k)\n",
    "    f = l*r*np.sin(k*c)\n",
    "    f[0]*= r[0]\n",
    "    f[1]*= r[1]*r[1]\n",
    "    return 1. + np.sum(f)"
   ]
  },
  {
   "cell_type": "markdown",
   "metadata": {},
   "source": [
    "# Parameters of the calculation:"
   ]
  },
  {
   "cell_type": "code",
   "execution_count": 2,
   "metadata": {
    "collapsed": false
   },
   "outputs": [],
   "source": [
    "n_dim = 10\n",
    "c = np.ones(n_dim)\n",
    "n_poi_cr = np.array([8]*n_dim)\n",
    "x_lim_cr = np.array([[-3., 3.]]*n_dim)\n",
    "tol_cr = 1.E-7; tol_tt = 1.E-7\n",
    "file_log = './cross_appr_log.txt'"
   ]
  },
  {
   "cell_type": "markdown",
   "metadata": {},
   "source": [
    "# Cross approximation:"
   ]
  },
  {
   "cell_type": "code",
   "execution_count": 3,
   "metadata": {
    "collapsed": false
   },
   "outputs": [
    {
     "name": "stdout",
     "output_type": "stream",
     "text": [
      "Number of function's calculations:  5647\n",
      "               * full tensor size:  1073741824\n",
      "Ranks of Y tensor                :  [ 1  9 10  9 10 10  9  9 10  8  1]\n",
      "Average tensor's ranks           :  9.4\n",
      "Number of cross iterations       :  2\n",
      "Relative error of approximation  :  3.4e-13\n",
      "Absolute error of approximation  :  7.7e-08\n",
      "Total size of Y cores            :  5824\n",
      "----------------------\n",
      "Total time  0.633 sec. \n"
     ]
    }
   ],
   "source": [
    "Time = time.time()\n",
    "f = func; f_args = [c]\n",
    "Y, calc_num, cr_info = cr_appr.calculate_tensor(f, f_args, n_poi_cr, \n",
    "                                                x_lim_cr, tol_cr, file_log)\n",
    "cr_iter, cr_err_rel, cr_err_abs, cr_e_rank = cr_info\n",
    "print \"Number of function's calculations: \", calc_num\n",
    "print \"               * full tensor size: \", np.prod(np.array(n_poi_cr))\n",
    "print \"Ranks of Y tensor                : \", Y.r\n",
    "print \"Average tensor's ranks           : \", cr_e_rank\n",
    "print \"Number of cross iterations       : \", cr_iter\n",
    "print \"Relative error of approximation  : \", cr_err_rel\n",
    "print \"Absolute error of approximation  : \", cr_err_abs\n",
    "G = tt.tensor.to_list(Y); \n",
    "Ysize = 0; \n",
    "for GG in G: Ysize += GG.size\n",
    "print \"Total size of Y cores            : \", Ysize\n",
    "print '----------------------'\n",
    "print 'Total time %6.3f sec. '%(time.time() - Time)"
   ]
  },
  {
   "cell_type": "code",
   "execution_count": 4,
   "metadata": {
    "collapsed": false
   },
   "outputs": [
    {
     "name": "stdout",
     "output_type": "stream",
     "text": [
      "Cross evals    :  7744    \n",
      "Function evals :  5831    \n",
      "TT cores size  :  5392    \n",
      "TT ranks       :  [ 1  9  9  9  9  9 10  9  9  8  1]    \n",
      "Eff TT rank    :  9.1   \n",
      "Iters          :  2    \n",
      "Err rel        :  1.20e-12\n",
      "Err abs        :  2.80e-07\n",
      "Total time (s) :  0.547 \n",
      "\n"
     ]
    }
   ],
   "source": [
    "F = Func(n_dim, isXYZ=False).set_func(func).set_args(c=c)\n",
    "Y = F.buildt(n_poi_cr, x_lim_cr, eps=tol_cr, F0=None, verb=True, i0=0)"
   ]
  },
  {
   "cell_type": "code",
   "execution_count": null,
   "metadata": {
    "collapsed": true
   },
   "outputs": [],
   "source": []
  },
  {
   "cell_type": "code",
   "execution_count": null,
   "metadata": {
    "collapsed": true
   },
   "outputs": [],
   "source": []
  },
  {
   "cell_type": "code",
   "execution_count": 5,
   "metadata": {
    "collapsed": false
   },
   "outputs": [
    {
     "name": "stdout",
     "output_type": "stream",
     "text": [
      "  Construction of func\n",
      "TT cores size  :  16    \n",
      "TT ranks       :  [1 2 2 1]    \n",
      "Eff TT rank    :  2.0   \n",
      "Iters          :  2    \n",
      "Max dy         :  1.43e-17\n",
      "Total time (s) :  0.010 \n",
      "\n",
      "[  5.00000000e-01   2.08333333e-02   4.76190476e-03   1.78571429e-03\n",
      "   8.54700855e-04   4.73484848e-04   2.89184500e-04   1.89393939e-04]\n"
     ]
    }
   ],
   "source": [
    "def func1(x, y, z, w):\n",
    "    return x*y*z*w\n",
    "\n",
    "X = Vector.ones(3, 'tt', 1.E-8) + Vector.arange(3, 'tt', 1.E-8)\n",
    "Y = Vector.ones(3, 'tt', 1.E-8) + Vector.arange(3, 'tt', 1.E-8) * 2.\n",
    "Z = Vector.ones(3, 'tt', 1.E-8) + Vector.arange(3, 'tt', 1.E-8) * 3.\n",
    "F = Func(3).set_func(func1).set_args(w=2)\n",
    "Y = F.build([X, Y, Z], inv=True, verb=True)\n",
    "print Y.to_np"
   ]
  },
  {
   "cell_type": "code",
   "execution_count": 5,
   "metadata": {
    "collapsed": false
   },
   "outputs": [
    {
     "name": "stdout",
     "output_type": "stream",
     "text": [
      "['swp: 0/9 er_rel = 1.0e+00 er_abs = 2.3e+05 erank = 5.0 fun_eval: 1248\\n', 'swp: 1/9 er_rel = 1.2e-12 er_abs = 2.8e-07 erank = 9.1 fun_eval: 7744\\n']\n",
      "This is a 10-dimensional tensor \n",
      "r(0)=1, n(0)=8 \n",
      "r(1)=9, n(1)=8 \n",
      "r(2)=9, n(2)=8 \n",
      "r(3)=9, n(3)=8 \n",
      "r(4)=9, n(4)=8 \n",
      "r(5)=9, n(5)=8 \n",
      "r(6)=10, n(6)=8 \n",
      "r(7)=9, n(7)=8 \n",
      "r(8)=9, n(8)=8 \n",
      "r(9)=8, n(9)=8 \n",
      "r(10)=1 \n",
      "\n"
     ]
    }
   ],
   "source": []
  },
  {
   "cell_type": "code",
   "execution_count": 12,
   "metadata": {
    "collapsed": false
   },
   "outputs": [
    {
     "data": {
      "text/plain": [
       "-1"
      ]
     },
     "execution_count": 12,
     "metadata": {},
     "output_type": "execute_result"
    }
   ],
   "source": [
    "x = 'rfff erank = '\n",
    "x.find('ecrank = ')"
   ]
  },
  {
   "cell_type": "code",
   "execution_count": null,
   "metadata": {
    "collapsed": true
   },
   "outputs": [],
   "source": []
  },
  {
   "cell_type": "code",
   "execution_count": null,
   "metadata": {
    "collapsed": true
   },
   "outputs": [],
   "source": []
  },
  {
   "cell_type": "code",
   "execution_count": null,
   "metadata": {
    "collapsed": true
   },
   "outputs": [],
   "source": []
  },
  {
   "cell_type": "code",
   "execution_count": null,
   "metadata": {
    "collapsed": true
   },
   "outputs": [],
   "source": []
  },
  {
   "cell_type": "code",
   "execution_count": null,
   "metadata": {
    "collapsed": true
   },
   "outputs": [],
   "source": []
  },
  {
   "cell_type": "code",
   "execution_count": null,
   "metadata": {
    "collapsed": true
   },
   "outputs": [],
   "source": []
  },
  {
   "cell_type": "code",
   "execution_count": null,
   "metadata": {
    "collapsed": true
   },
   "outputs": [],
   "source": []
  },
  {
   "cell_type": "markdown",
   "metadata": {},
   "source": [
    "# Interpolation by Chebushev polynomials:"
   ]
  },
  {
   "cell_type": "code",
   "execution_count": 7,
   "metadata": {
    "collapsed": false
   },
   "outputs": [
    {
     "name": "stdout",
     "output_type": "stream",
     "text": [
      "Ranks of A tensor    :  [1 2 2 2 2 2 2 2 2 2 1]\n",
      "Total size of A cores:  360\n",
      "----------------------\n",
      "Total time  0.050 sec. \n"
     ]
    }
   ],
   "source": [
    "Time = time.time()\n",
    "A = ch_tt.interpolate(Y, tol_tt)\n",
    "print \"Ranks of A tensor    : \", A.r\n",
    "G = tt.tensor.to_list(A)\n",
    "Asize = 0\n",
    "for GG in G: Asize += GG.size\n",
    "print \"Total size of A cores: \", Asize\n",
    "print '----------------------'\n",
    "print 'Total time %6.3f sec. '%(time.time() - Time)"
   ]
  },
  {
   "cell_type": "markdown",
   "metadata": {},
   "source": [
    "# Check of interpolation result on the set of random points:"
   ]
  },
  {
   "cell_type": "code",
   "execution_count": 8,
   "metadata": {
    "collapsed": false
   },
   "outputs": [
    {
     "name": "stdout",
     "output_type": "stream",
     "text": [
      "Maximum relative error of results on check mesh:  9.14e-14\n",
      "Mean relative error of results on check mesh   :  1.65e-15\n",
      "----------------------\n",
      "Total time  0.790 sec. \n"
     ]
    }
   ],
   "source": [
    "Time = time.time()\n",
    "poi_num = 1000; a, b = -3., 3.\n",
    "X = a + np.random.random((n_dim, poi_num))*(b - a)\n",
    "f_real = [func(X[:, i], c) for i in range(poi_num)]\n",
    "f_calc = ch_tt.func_val(X, A, x_lim_cr)\n",
    "print 'Maximum relative error of results on check mesh: ', \n",
    "print '%-8.2e'%np.max(np.abs((f_calc-f_real) / f_real))\n",
    "print 'Mean relative error of results on check mesh   : ', \n",
    "print '%-8.2e'%np.mean(np.abs((f_calc-f_real) / f_real))\n",
    "print '----------------------'\n",
    "print 'Total time %6.3f sec. '%(time.time() - Time)"
   ]
  },
  {
   "cell_type": "code",
   "execution_count": 9,
   "metadata": {
    "collapsed": false
   },
   "outputs": [
    {
     "data": {
      "image/png": "[encoded data removed]",
      "text/plain": [
       "<matplotlib.figure.Figure at 0xad483d8c>"
      ]
     },
     "metadata": {},
     "output_type": "display_data"
    }
   ],
   "source": [
    "gs = gridspec.GridSpec(1, 2)\n",
    "gs.update(left=0.05, right=1.5, wspace=0.4)\n",
    "ax1 = plt.subplot(gs[0, 0])\n",
    "ax2 = plt.subplot(gs[0, 1])\n",
    "ax1.set_title('Real and approximated function values on test points')\n",
    "ax2.set_title('Relative error')\n",
    "ax1.plot(np.arange(poi_num)+1, f_real, label='Real') \n",
    "ax1.plot(np.arange(poi_num)+1, f_calc, label='Appr')\n",
    "ax2.plot(np.arange(poi_num)+1, np.abs((f_real-f_calc)/f_real))\n",
    "ax1.legend(loc='best'); ax2.semilogy(); plt.show()"
   ]
  },
  {
   "cell_type": "code",
   "execution_count": null,
   "metadata": {
    "collapsed": true
   },
   "outputs": [],
   "source": []
  }
 ],
 "metadata": {
  "anaconda-cloud": {},
  "kernelspec": {
   "display_name": "Python [default]",
   "language": "python",
   "name": "python2"
  },
  "language_info": {
   "codemirror_mode": {
    "name": "ipython",
    "version": 2
   },
   "file_extension": ".py",
   "mimetype": "text/x-python",
   "name": "python",
   "nbconvert_exporter": "python",
   "pygments_lexer": "ipython2",
   "version": "2.7.12"
  }
 },
 "nbformat": 4,
 "nbformat_minor": 0
}
